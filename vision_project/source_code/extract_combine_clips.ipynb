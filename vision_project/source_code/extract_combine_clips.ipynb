{
 "cells": [
  {
   "cell_type": "code",
   "execution_count": null,
   "metadata": {},
   "outputs": [],
   "source": [
    "# !pip install moviepy"
   ]
  },
  {
   "cell_type": "code",
   "execution_count": null,
   "metadata": {},
   "outputs": [],
   "source": [
    "from moviepy.editor import VideoFileClip, concatenate_videoclips"
   ]
  },
  {
   "cell_type": "code",
   "execution_count": 6,
   "metadata": {},
   "outputs": [],
   "source": [
    "# make_clip_video(원본 비디오 경로, 저장할 클립명, 시작 시간, 끝 시간)\n",
    "\n",
    "def make_clip_video(path, save_path, start_t, end_t):\n",
    "    clip_video = VideoFileClip(path).subclip(start_t, end_t)\n",
    "    clip_video.write_videofile(save_path)"
   ]
  },
  {
   "cell_type": "code",
   "execution_count": 29,
   "metadata": {},
   "outputs": [],
   "source": [
    "# 원천 데이터는 다른 각도로 촬영된 동일한 상황의 영상이 3~4개씩 있음\n",
    "\n",
    "path1 = './dataset/Training/01.원천데이터/TS_12 절도/C_3_12_25_BU_SYB_10-04_14-51-46_CA_RGB_DF2_F3.mp4'\n",
    "path2 = './dataset/Training/01.원천데이터/TS_12 절도/C_3_12_25_BU_SYB_10-04_14-51-46_CB_RGB_DF2_F3.mp4'\n",
    "path3 = './dataset/Training/01.원천데이터/TS_12 절도/C_3_12_25_BU_SYB_10-04_14-51-46_CC_RGB_DF2_F3.mp4'\n",
    "path4 = './dataset/Training/01.원천데이터/TS_12 절도/C_3_12_25_BU_SYB_10-04_14-51-46_CD_RGB_DF2_F3.mp4'"
   ]
  },
  {
   "cell_type": "code",
   "execution_count": null,
   "metadata": {},
   "outputs": [],
   "source": [
    "# extract clips\n",
    "# 한 영상 안에 이상행동 클립이 평균 3개 추출 가능\n",
    "\n",
    "#1\n",
    "make_clip_video(path1, '01_pocket_36.mp4', 22, 34)\n",
    "make_clip_video(path1, '02_pocket_30.mp4', 41, 51)\n",
    "\n",
    "make_clip_video(path1, '01_normal_36.mp4', 4, 16)\n",
    "make_clip_video(path1, '02_normal_30.mp4', 11, 21)\n",
    "\n",
    "#2\n",
    "make_clip_video(path2, '03_pocket_36.mp4', 22, 34)\n",
    "make_clip_video(path2, '04_pocket_30.mp4', 41, 51)\n",
    "\n",
    "make_clip_video(path2, '03_normal_36.mp4', 4, 16)\n",
    "make_clip_video(path2, '04_normal_30.mp4', 11, 21)\n",
    "\n",
    "#3\n",
    "make_clip_video(path3, '05_pocket_36.mp4', 22, 34)\n",
    "make_clip_video(path3, '06_pocket_30.mp4', 41, 51)\n",
    "\n",
    "make_clip_video(path3, '05_normal_36.mp4', 4, 16)\n",
    "make_clip_video(path3, '06_normal_30.mp4', 11, 21)\n",
    "\n",
    "#4\n",
    "make_clip_video(path4, '07_pocket_36.mp4', 22, 34)\n",
    "make_clip_video(path4, '08_pocket_30.mp4', 41, 51)\n",
    "\n",
    "make_clip_video(path4, '07_normal_36.mp4', 4, 16)\n",
    "make_clip_video(path4, '08_normal_30.mp4', 11, 21)\n"
   ]
  },
  {
   "cell_type": "code",
   "execution_count": null,
   "metadata": {},
   "outputs": [],
   "source": [
    "# combine clips\n",
    "\n",
    "#1\n",
    "\n",
    "# 병합할 abnormal 데이터\n",
    "abnormal1 = VideoFileClip(\"01_pocket_36.mp4\")\n",
    "abnormal2 = VideoFileClip(\"02_pocket_30.mp4\")\n",
    "\n",
    "# 병합할 normal 데이터\n",
    "normal1 = VideoFileClip(\"01_normal_36.mp4\")\n",
    "normal2 = VideoFileClip(\"02_normal_30.mp4\")\n",
    "\n",
    "# 병합\n",
    "combined_a = concatenate_videoclips([abnormal1, abnormal2])\n",
    "combined_n = concatenate_videoclips([normal1, normal2])\n",
    "\n",
    "# 저장\n",
    "combined_a.write_videofile(\"com_01_pocket_66.mp4\")\n",
    "combined_n.write_videofile(\"com_01_normal_66.mp4\")\n",
    "\n",
    "#2\n",
    "abnormal1 = VideoFileClip(\"03_pocket_36.mp4\")\n",
    "abnormal2 = VideoFileClip(\"04_pocket_30.mp4\")\n",
    "\n",
    "normal1 = VideoFileClip(\"03_normal_36.mp4\")\n",
    "normal2 = VideoFileClip(\"04_normal_30.mp4\")\n",
    "\n",
    "combined_a = concatenate_videoclips([abnormal1, abnormal2])\n",
    "combined_n = concatenate_videoclips([normal1, normal2])\n",
    "\n",
    "combined_a.write_videofile(\"com_02_pocket_66.mp4\")\n",
    "combined_n.write_videofile(\"com_02_normal_66.mp4\")\n",
    "\n",
    "#3\n",
    "abnormal1 = VideoFileClip(\"05_pocket_36.mp4\")\n",
    "abnormal2 = VideoFileClip(\"06_pocket_30.mp4\")\n",
    "\n",
    "normal1 = VideoFileClip(\"05_normal_36.mp4\")\n",
    "normal2 = VideoFileClip(\"06_normal_30.mp4\")\n",
    "\n",
    "combined_a = concatenate_videoclips([abnormal1, abnormal2])\n",
    "combined_n = concatenate_videoclips([normal1, normal2])\n",
    "\n",
    "combined_a.write_videofile(\"03_pocket_66.mp4\")\n",
    "combined_n.write_videofile(\"03_normal_66.mp4\")\n",
    "\n",
    "#4\n",
    "abnormal1 = VideoFileClip(\"07_pocket_36.mp4\")\n",
    "abnormal2 = VideoFileClip(\"08_pocket_30.mp4\")\n",
    "\n",
    "normal1 = VideoFileClip(\"07_normal_36.mp4\")\n",
    "normal2 = VideoFileClip(\"08_normal_30.mp4\")\n",
    "\n",
    "combined_a = concatenate_videoclips([abnormal1, abnormal2])\n",
    "combined_n = concatenate_videoclips([normal1, normal2])\n",
    "\n",
    "combined_a.write_videofile(\"04_pocket_66.mp4\")\n",
    "combined_n.write_videofile(\"04_normal_66.mp4\")"
   ]
  }
 ],
 "metadata": {
  "kernelspec": {
   "display_name": "ds_study",
   "language": "python",
   "name": "python3"
  },
  "language_info": {
   "codemirror_mode": {
    "name": "ipython",
    "version": 3
   },
   "file_extension": ".py",
   "mimetype": "text/x-python",
   "name": "python",
   "nbconvert_exporter": "python",
   "pygments_lexer": "ipython3",
   "version": "3.8.12"
  },
  "orig_nbformat": 4
 },
 "nbformat": 4,
 "nbformat_minor": 2
}
